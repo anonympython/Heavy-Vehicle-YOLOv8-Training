{
 "cells": [
  {
   "cell_type": "code",
   "execution_count": 1,
   "metadata": {},
   "outputs": [
    {
     "name": "stdout",
     "output_type": "stream",
     "text": [
      "/home/manidhar/Desktop/AryanWork/yolov8-seg-training\n"
     ]
    }
   ],
   "source": [
    "import os\n",
    "HOME = os.getcwd()\n",
    "print(HOME)"
   ]
  },
  {
   "cell_type": "code",
   "execution_count": 2,
   "metadata": {},
   "outputs": [
    {
     "name": "stderr",
     "output_type": "stream",
     "text": [
      "Ultralytics YOLOv8.0.20 🚀 Python-3.8.10 torch-2.0.0+cu117 CUDA:0 (NVIDIA RTX A4000, 16109MiB)\n",
      "Setup complete ✅ (16 CPUs, 62.6 GB RAM, 223.9/226.3 GB disk)\n"
     ]
    }
   ],
   "source": [
    "!pip install ultralytics\n",
    "\n",
    "from IPython import display\n",
    "display.clear_output()\n",
    "\n",
    "import ultralytics\n",
    "ultralytics.checks()"
   ]
  },
  {
   "cell_type": "code",
   "execution_count": 3,
   "metadata": {},
   "outputs": [],
   "source": [
    "from ultralytics import YOLO\n",
    "\n",
    "model = YOLO(\"Trained Models/segmentation_trained_model.pt\")  # loading a trained detection model"
   ]
  },
  {
   "cell_type": "code",
   "execution_count": 4,
   "metadata": {},
   "outputs": [
    {
     "name": "stdout",
     "output_type": "stream",
     "text": [
      "{0: 'A-10-TRIDEM', 1: 'A-13', 2: 'AXLE', 3: 'TYPE 2-S2', 4: 'TYPE 3-S2', 5: 'TYPE-2', 6: 'TYPE-3', 7: 'UC'}\n"
     ]
    }
   ],
   "source": [
    "print(model.model.names)"
   ]
  },
  {
   "cell_type": "code",
   "execution_count": 5,
   "metadata": {},
   "outputs": [
    {
     "name": "stderr",
     "output_type": "stream",
     "text": [
      "Ultralytics YOLOv8.0.20 🚀 Python-3.8.10 torch-2.0.0+cu117 CUDA:0 (NVIDIA RTX A4000, 16109MiB)\n",
      "YOLOv8s-seg summary (fused): 195 layers, 11782696 parameters, 0 gradients, 42.5 GFLOPs\n"
     ]
    }
   ],
   "source": [
    "result = model(\"Test_Images/1.jpg\")"
   ]
  },
  {
   "cell_type": "code",
   "execution_count": 71,
   "metadata": {},
   "outputs": [
    {
     "name": "stdout",
     "output_type": "stream",
     "text": [
      "[[          0           0           0 ...           0           0           0]\n",
      " [          0           0           0 ...           0           0           0]\n",
      " [          0           0           0 ...           0           0           0]\n",
      " ...\n",
      " [          0           0           0 ...           0           0           0]\n",
      " [          0           0           0 ...           0           0           0]\n",
      " [          0           0           0 ...           0           0           0]]\n",
      "tensor([5., 2., 2.], device='cuda:0')\n"
     ]
    }
   ],
   "source": [
    "print(result[0].masks.masks[0].cpu().numpy())\n",
    "print(result[0].boxes.cls)"
   ]
  },
  {
   "cell_type": "code",
   "execution_count": null,
   "metadata": {},
   "outputs": [],
   "source": []
  }
 ],
 "metadata": {
  "kernelspec": {
   "display_name": "base",
   "language": "python",
   "name": "python3"
  },
  "language_info": {
   "codemirror_mode": {
    "name": "ipython",
    "version": 3
   },
   "file_extension": ".py",
   "mimetype": "text/x-python",
   "name": "python",
   "nbconvert_exporter": "python",
   "pygments_lexer": "ipython3",
   "version": "3.8.10"
  },
  "orig_nbformat": 4
 },
 "nbformat": 4,
 "nbformat_minor": 2
}
