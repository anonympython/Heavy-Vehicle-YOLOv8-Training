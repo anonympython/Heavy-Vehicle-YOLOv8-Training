{
 "cells": [
  {
   "cell_type": "code",
   "execution_count": 7,
   "metadata": {},
   "outputs": [],
   "source": [
    "\n",
    "def get_actual_mask_from_polygon(file_name_of_label,defined_classes):\n",
    "\n",
    "    import numpy\n",
    "    from PIL import Image, ImageDraw\n",
    "\n",
    "    side_length = 640 \n",
    "    width = side_length\n",
    "    height = side_length\n",
    "\n",
    "    img = Image.new('L', (width, height), 0)\n",
    "\n",
    "    file = open(file_name_of_label, mode = 'r', encoding = 'utf-8-sig')\n",
    "    lines = file.readlines()\n",
    "    file.close()\n",
    "    \n",
    "\n",
    "    for line in lines:\n",
    "        line = line.split(' ')\n",
    "        line = [i.strip() for i in line]\n",
    "        class_of_annotation=int(line[0])\n",
    "        is_in_defined_classes = False\n",
    "\n",
    "        #checking is annoatation is present in list of defined classes\n",
    "        for annotation_class in defined_classes:\n",
    "            if(annotation_class==class_of_annotation):\n",
    "                is_in_defined_classes=True\n",
    "        \n",
    "        if(is_in_defined_classes):\n",
    "            polygon = []\n",
    "            for i in range(1,len(line)):\n",
    "                line[i]=float(line[i])*side_length\n",
    "                polygon.append(line[i])\n",
    "            ImageDraw.Draw(img).polygon(polygon, outline=1, fill=1)\n",
    "\n",
    "    mask = numpy.array(img)\n",
    "    print(mask)\n",
    "\n",
    "    return mask"
   ]
  },
  {
   "cell_type": "code",
   "execution_count": 8,
   "metadata": {},
   "outputs": [
    {
     "name": "stdout",
     "output_type": "stream",
     "text": [
      "[[0 0 0 ... 0 0 0]\n",
      " [0 0 0 ... 0 0 0]\n",
      " [0 0 0 ... 0 0 0]\n",
      " ...\n",
      " [0 0 0 ... 0 0 0]\n",
      " [0 0 0 ... 0 0 0]\n",
      " [0 0 0 ... 0 0 0]]\n"
     ]
    }
   ],
   "source": [
    "import cv2\n",
    "\n",
    "filename_of_label = \"Test_Images/labels/1.txt\"\n",
    "filename_of_image = \"Test_Images/1.jpg\"\n",
    "defined_classes = [0,1,2,3,4,5,6,7]\n",
    "\n",
    "mask = get_actual_mask_from_polygon(filename_of_label,defined_classes)\n",
    "\n",
    "img = cv2.imread(filename_of_image)\n",
    "res = cv2.bitwise_and(img,img,mask = mask)\n",
    "# cv2.imshow(\"img\",res)\n",
    "# cv2.waitKey(0)\n",
    "# cv2.destroyAllWindows()"
   ]
  }
 ],
 "metadata": {
  "kernelspec": {
   "display_name": "Python 3",
   "language": "python",
   "name": "python3"
  },
  "language_info": {
   "codemirror_mode": {
    "name": "ipython",
    "version": 3
   },
   "file_extension": ".py",
   "mimetype": "text/x-python",
   "name": "python",
   "nbconvert_exporter": "python",
   "pygments_lexer": "ipython3",
   "version": "3.8.10"
  },
  "orig_nbformat": 4
 },
 "nbformat": 4,
 "nbformat_minor": 2
}
