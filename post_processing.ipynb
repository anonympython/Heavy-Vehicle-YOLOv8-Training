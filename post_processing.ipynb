{
 "cells": [
  {
   "cell_type": "code",
   "execution_count": 14,
   "metadata": {},
   "outputs": [
    {
     "name": "stdout",
     "output_type": "stream",
     "text": [
      "Sun Aug 20 00:04:59 2023       \n",
      "+---------------------------------------------------------------------------------------+\n",
      "| NVIDIA-SMI 530.30.02              Driver Version: 530.30.02    CUDA Version: 12.1     |\n",
      "|-----------------------------------------+----------------------+----------------------+\n",
      "| GPU  Name                  Persistence-M| Bus-Id        Disp.A | Volatile Uncorr. ECC |\n",
      "| Fan  Temp  Perf            Pwr:Usage/Cap|         Memory-Usage | GPU-Util  Compute M. |\n",
      "|                                         |                      |               MIG M. |\n",
      "|=========================================+======================+======================|\n",
      "|   0  NVIDIA RTX A4000                On | 00000000:01:00.0 Off |                  Off |\n",
      "| 41%   48C    P8               15W / 140W|   1557MiB / 16376MiB |      0%      Default |\n",
      "|                                         |                      |                  N/A |\n",
      "+-----------------------------------------+----------------------+----------------------+\n",
      "                                                                                         \n",
      "+---------------------------------------------------------------------------------------+\n",
      "| Processes:                                                                            |\n",
      "|  GPU   GI   CI        PID   Type   Process name                            GPU Memory |\n",
      "|        ID   ID                                                             Usage      |\n",
      "|=======================================================================================|\n",
      "|    0   N/A  N/A      1314      G   /usr/lib/xorg/Xorg                            4MiB |\n",
      "|    0   N/A  N/A      1864      G   /usr/lib/xorg/Xorg                            4MiB |\n",
      "|    0   N/A  N/A    361839      C   /bin/python3                               1544MiB |\n",
      "+---------------------------------------------------------------------------------------+\n"
     ]
    }
   ],
   "source": [
    "!nvidia-smi"
   ]
  },
  {
   "cell_type": "code",
   "execution_count": 15,
   "metadata": {},
   "outputs": [
    {
     "name": "stdout",
     "output_type": "stream",
     "text": [
      "/home/manidhar/Desktop/AryanWork/yolov8-seg-training\n"
     ]
    }
   ],
   "source": [
    "import os\n",
    "HOME = os.getcwd()\n",
    "print(HOME)"
   ]
  },
  {
   "cell_type": "code",
   "execution_count": 16,
   "metadata": {},
   "outputs": [],
   "source": [
    "from ultralytics import YOLO\n",
    "\n",
    "\n",
    "MODEL = \"Trained_Models/nano_segment_model.pt\"\n",
    "model = YOLO(MODEL) "
   ]
  },
  {
   "cell_type": "code",
   "execution_count": 17,
   "metadata": {},
   "outputs": [],
   "source": [
    "\n",
    "def predict_raised_axle(axle_data,threshhold):\n",
    "\n",
    "    import numpy as np\n",
    "\n",
    "    has_raised_axle = False\n",
    "    slopes = []\n",
    "    axle_count = len(axle_data)-1\n",
    "    \n",
    "    np.sort(axle_data)\n",
    "\n",
    "\n",
    "    for i in range(0,axle_count):\n",
    "        slopes.append(int(-1)*(axle_data[axle_count][0]-axle_data[i][0])/(axle_data[axle_count][1]-axle_data[i][1]))\n",
    "\n",
    "    std_dev = np.std(slopes)\n",
    "\n",
    "    if(std_dev>=threshhold):\n",
    "        has_raised_axle = True\n",
    "\n",
    "    return has_raised_axle\n",
    "\n",
    "\n",
    "    "
   ]
  },
  {
   "cell_type": "code",
   "execution_count": 18,
   "metadata": {},
   "outputs": [],
   "source": [
    "# # {0: 'A-10-S-TANDEM', 1: 'A-10-TRIDEM', 2: 'AXLE', 3: 'COMBINED', 4: 'TYPE-2', 5: 'TYPE-2-S2', 6: 'TYPE-3', 7: 'UC'}\n",
    "\n",
    "# def contains_raised_axle(filepath_of_image):\n",
    "\n",
    "#     result = model(filepath_of_image)\n",
    "#     predicted_boxes = []\n",
    "#     predicted_classes = []\n",
    "#     axle_data = []\n",
    "\n",
    "#     if len(result[0]) !=0:\n",
    "#         predicted_boxes = result[0].boxes.xywh.cpu().numpy()\n",
    "#         predicted_classes= result[0].boxes.cls.cpu().numpy()\n",
    "\n",
    "#     for classes in range(len(predicted_classes)):\n",
    "#         if(predicted_classes[classes] == 2):\n",
    "#             axle_data.append([predicted_boxes[classes][0],predicted_boxes[classes][1]])\n",
    "\n",
    "#     return predict_raised_axle(axle_data)\n",
    "\n"
   ]
  },
  {
   "cell_type": "code",
   "execution_count": 19,
   "metadata": {},
   "outputs": [],
   "source": [
    "def get_axle_inside_bounding_box(bounding_box,axle_data): # both in [x,y,x,y] format\n",
    "\n",
    "    axles_inside_bounding_box = []\n",
    "\n",
    "    bounding_box_x_top = bounding_box[0]\n",
    "    bounding_box_y_top = bounding_box[1]\n",
    "    bounding_box_x_bot = bounding_box[2]\n",
    "    bounding_box_y_bot = bounding_box[3] \n",
    "\n",
    "\n",
    "    for data in axle_data:\n",
    "        x_top = int(data[0])\n",
    "        y_top = int(data[1])\n",
    "\n",
    "        if(bounding_box_x_top<=x_top and x_top<=bounding_box_x_bot and bounding_box_y_top<=y_top and y_top<=bounding_box_y_bot):\n",
    "            axles_inside_bounding_box.append([(data[0]+data[2])/2,(data[1]+data[3])/2])\n",
    "    \n",
    "    return axles_inside_bounding_box"
   ]
  },
  {
   "cell_type": "code",
   "execution_count": 20,
   "metadata": {},
   "outputs": [],
   "source": [
    "# {0: 'A-10-S-TANDEM', 1: 'A-10-TRIDEM', 2: 'AXLE', 3: 'COMBINED', 4: 'TYPE-2', 5: 'TYPE-2-S2', 6: 'TYPE-3', 7: 'UC'}\n",
    "\n",
    "# modified\n",
    "\n",
    "def contains_raised_axle(filepath_of_image,threshold):\n",
    "\n",
    "    import numpy\n",
    "\n",
    "    result = model(filepath_of_image)\n",
    "    predicted_boxes = []\n",
    "    predicted_classes = []\n",
    "    axles = []\n",
    "\n",
    "    if len(result[0]) !=0:\n",
    "        predicted_boxes = result[0].boxes.xyxy.cpu().numpy()\n",
    "        predicted_classes= result[0].boxes.cls.cpu().numpy()\n",
    "\n",
    "    for classes in range(len(predicted_classes)):\n",
    "        if(predicted_classes[classes]==2):\n",
    "            axles.append(predicted_boxes[classes])\n",
    "\n",
    "    for classes in range(len(predicted_classes)):\n",
    "        if(predicted_classes[classes] == 3):\n",
    "            axles_inside_bounding_box = get_axle_inside_bounding_box(predicted_boxes[classes],axles)\n",
    "\n",
    "    return predict_raised_axle(axles_inside_bounding_box,threshold)\n",
    "\n"
   ]
  },
  {
   "cell_type": "code",
   "execution_count": 21,
   "metadata": {},
   "outputs": [
    {
     "name": "stderr",
     "output_type": "stream",
     "text": [
      "Ultralytics YOLOv8.0.20 🚀 Python-3.8.10 torch-2.0.0+cu117 CUDA:0 (NVIDIA RTX A4000, 16109MiB)\n",
      "YOLOv8n-seg summary (fused): 195 layers, 3259624 parameters, 0 gradients, 12.0 GFLOPs\n"
     ]
    },
    {
     "data": {
      "text/plain": [
       "False"
      ]
     },
     "execution_count": 21,
     "metadata": {},
     "output_type": "execute_result"
    }
   ],
   "source": [
    "# A-13 Test Image 2023-06-03 04_55_51-554578__00000019.jpg\n",
    "\n",
    "contains_raised_axle(\"MASTERDATASET/test/images/2023-06-03-04_55_51-554578__00000019_jpg.rf.cd8c762b38893e474fce4f7703690f54.jpg\",0.3)"
   ]
  },
  {
   "cell_type": "code",
   "execution_count": 22,
   "metadata": {},
   "outputs": [
    {
     "data": {
      "text/plain": [
       "True"
      ]
     },
     "execution_count": 22,
     "metadata": {},
     "output_type": "execute_result"
    }
   ],
   "source": [
    "# Type-3-S2 Test Image mainak-3_198_jpg.rf.9ab83c35318e7699f6fc0446239d395b.jpg\n",
    "\n",
    "contains_raised_axle(\"MASTERDATASET/test/images/mainak-1_211_jpg.rf.37fd2f72e4cf2a088807ef796a649d3d.jpg\",0.3)"
   ]
  },
  {
   "cell_type": "code",
   "execution_count": 23,
   "metadata": {},
   "outputs": [
    {
     "data": {
      "text/plain": [
       "False"
      ]
     },
     "execution_count": 23,
     "metadata": {},
     "output_type": "execute_result"
    }
   ],
   "source": [
    "# Type-3-S2 Test Image sravya-14_08_47-766729__00000014_jpg.rf.04ff4fd7d96a0584de87da05258f6b4c.jpg\n",
    "\n",
    "contains_raised_axle(\"MASTERDATASET/test/images/sravya-14_08_47-766729__00000014_jpg.rf.b0429e0f472d85d152cb0a5888c30934.jpg\",0.3)"
   ]
  },
  {
   "cell_type": "code",
   "execution_count": 24,
   "metadata": {},
   "outputs": [
    {
     "name": "stderr",
     "output_type": "stream",
     "text": [
      "Results saved to \u001b[1mruns/segment/predict\u001b[0m\n"
     ]
    }
   ],
   "source": [
    "results = model.predict(\"MASTERDATASET/test/images/2023-06-03-04_55_51-554578__00000019_jpg.rf.cd8c762b38893e474fce4f7703690f54.jpg\", save=True, hide_labels=True,boxes=False)"
   ]
  },
  {
   "cell_type": "code",
   "execution_count": 25,
   "metadata": {},
   "outputs": [
    {
     "name": "stderr",
     "output_type": "stream",
     "text": [
      "Results saved to \u001b[1mruns/segment/predict\u001b[0m\n"
     ]
    }
   ],
   "source": [
    "results = model.predict(\"MASTERDATASET/test/images/sravya-14_08_47-766729__00000014_jpg.rf.b0429e0f472d85d152cb0a5888c30934.jpg\", save=True, hide_labels=True,boxes=False)"
   ]
  },
  {
   "cell_type": "code",
   "execution_count": 26,
   "metadata": {},
   "outputs": [
    {
     "name": "stderr",
     "output_type": "stream",
     "text": [
      "Results saved to \u001b[1mruns/segment/predict\u001b[0m\n"
     ]
    }
   ],
   "source": [
    "results = model.predict(\"MASTERDATASET/test/images/mainak-3_198_jpg.rf.6d9bec74eb2c786bcb5fd2879ef90e64.jpg\", save=True, hide_labels=True,boxes=False)"
   ]
  }
 ],
 "metadata": {
  "kernelspec": {
   "display_name": "Python 3",
   "language": "python",
   "name": "python3"
  },
  "language_info": {
   "codemirror_mode": {
    "name": "ipython",
    "version": 3
   },
   "file_extension": ".py",
   "mimetype": "text/x-python",
   "name": "python",
   "nbconvert_exporter": "python",
   "pygments_lexer": "ipython3",
   "version": "3.8.10"
  },
  "orig_nbformat": 4
 },
 "nbformat": 4,
 "nbformat_minor": 2
}
