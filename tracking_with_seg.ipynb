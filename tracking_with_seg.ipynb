{
 "cells": [
  {
   "cell_type": "code",
   "execution_count": 21,
   "metadata": {},
   "outputs": [
    {
     "name": "stdout",
     "output_type": "stream",
     "text": [
      "/home/ee19b004/Desktop/Training\n",
      "mkdir: cannot create directory ‘/home/ee19b004/Desktop/Training/Tracking’: File exists\n",
      "/home/ee19b004/Desktop/Training/Tracking\n"
     ]
    }
   ],
   "source": [
    "import os\n",
    "HOME = os.getcwd()\n",
    "HOME = \"/home/ee19b004/Desktop/Training\"\n",
    "print(HOME)\n",
    "\n",
    "!mkdir {HOME}/Tracking\n",
    "%cd {HOME}/Tracking"
   ]
  },
  {
   "cell_type": "code",
   "execution_count": 22,
   "metadata": {},
   "outputs": [
    {
     "name": "stdout",
     "output_type": "stream",
     "text": [
      "Setup complete. Using torch 2.0.0+cu117 (NVIDIA RTX A4000)\n"
     ]
    }
   ],
   "source": [
    "!git clone --recurse-submodules https://github.com/mikel-brostrom/yolov8_tracking.git  # clone recursively\n",
    "%cd yolov8_tracking\n",
    "%pip install -r requirements.txt  # install dependencies\n",
    "\n",
    "import torch\n",
    "from IPython.display import Image, clear_output  # to display images\n",
    "\n",
    "clear_output()\n",
    "print(f\"Setup complete. Using torch {torch.__version__} ({torch.cuda.get_device_properties(0).name if torch.cuda.is_available() else 'CPU'})\")"
   ]
  },
  {
   "cell_type": "code",
   "execution_count": 20,
   "metadata": {},
   "outputs": [
    {
     "name": "stdout",
     "output_type": "stream",
     "text": [
      "/bin/bash: python: command not found\n"
     ]
    }
   ],
   "source": [
    "!python track.py --yolo-weights \"/home/ee19b004/Desktop/Training/Trainings/runs/segment/train/weights/best.pt\" --source \"/home/ee19b004/Desktop/Training/videos/heavy-vehicle-detection.mp4\" --save-vid"
   ]
  }
 ],
 "metadata": {
  "kernelspec": {
   "display_name": "Python 3",
   "language": "python",
   "name": "python3"
  },
  "language_info": {
   "codemirror_mode": {
    "name": "ipython",
    "version": 3
   },
   "file_extension": ".py",
   "mimetype": "text/x-python",
   "name": "python",
   "nbconvert_exporter": "python",
   "pygments_lexer": "ipython3",
   "version": "3.8.10"
  },
  "orig_nbformat": 4
 },
 "nbformat": 4,
 "nbformat_minor": 2
}
