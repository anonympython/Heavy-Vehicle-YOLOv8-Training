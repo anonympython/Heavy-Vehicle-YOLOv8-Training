{
 "cells": [
  {
   "cell_type": "code",
   "execution_count": 1,
   "metadata": {},
   "outputs": [
    {
     "name": "stdout",
     "output_type": "stream",
     "text": [
      "Fri May 12 01:13:54 2023       \n",
      "+---------------------------------------------------------------------------------------+\n",
      "| NVIDIA-SMI 530.30.02              Driver Version: 530.30.02    CUDA Version: 12.1     |\n",
      "|-----------------------------------------+----------------------+----------------------+\n",
      "| GPU  Name                  Persistence-M| Bus-Id        Disp.A | Volatile Uncorr. ECC |\n",
      "| Fan  Temp  Perf            Pwr:Usage/Cap|         Memory-Usage | GPU-Util  Compute M. |\n",
      "|                                         |                      |               MIG M. |\n",
      "|=========================================+======================+======================|\n",
      "|   0  NVIDIA RTX A4000                On | 00000000:01:00.0 Off |                  Off |\n",
      "| 41%   46C    P8               15W / 140W|   3146MiB / 16376MiB |      0%      Default |\n",
      "|                                         |                      |                  N/A |\n",
      "+-----------------------------------------+----------------------+----------------------+\n",
      "                                                                                         \n",
      "+---------------------------------------------------------------------------------------+\n",
      "| Processes:                                                                            |\n",
      "|  GPU   GI   CI        PID   Type   Process name                            GPU Memory |\n",
      "|        ID   ID                                                             Usage      |\n",
      "|=======================================================================================|\n",
      "|    0   N/A  N/A      1226      G   /usr/lib/xorg/Xorg                            4MiB |\n",
      "|    0   N/A  N/A    750795      G   /usr/lib/xorg/Xorg                            4MiB |\n",
      "|    0   N/A  N/A    774965      C   ...sktop/Herokuapp/flaskapp/bin/python     1564MiB |\n",
      "|    0   N/A  N/A    796459      G   /usr/lib/xorg/Xorg                            4MiB |\n",
      "|    0   N/A  N/A    911062      C   ...sktop/Herokuapp/flaskapp/bin/python     1564MiB |\n",
      "+---------------------------------------------------------------------------------------+\n"
     ]
    }
   ],
   "source": [
    "!nvidia-smi"
   ]
  },
  {
   "cell_type": "code",
   "execution_count": 2,
   "metadata": {},
   "outputs": [
    {
     "name": "stdout",
     "output_type": "stream",
     "text": [
      "/home/ee19b004/Desktop/Training\n"
     ]
    }
   ],
   "source": [
    "import os\n",
    "HOME = os.getcwd()\n",
    "print(HOME)"
   ]
  },
  {
   "cell_type": "code",
   "execution_count": 3,
   "metadata": {},
   "outputs": [
    {
     "name": "stderr",
     "output_type": "stream",
     "text": [
      "Ultralytics YOLOv8.0.20 🚀 Python-3.8.10 torch-2.0.0+cu117 CUDA:0 (NVIDIA RTX A4000, 16109MiB)\n",
      "Setup complete ✅ (16 CPUs, 62.6 GB RAM, 103.0/226.3 GB disk)\n"
     ]
    }
   ],
   "source": [
    "!pip install ultralytics==8.0.20\n",
    "\n",
    "from IPython import display\n",
    "display.clear_output()\n",
    "\n",
    "import ultralytics\n",
    "ultralytics.checks()"
   ]
  },
  {
   "cell_type": "code",
   "execution_count": 4,
   "metadata": {},
   "outputs": [],
   "source": [
    "from ultralytics import YOLO\n",
    "\n",
    "from IPython.display import display, Image"
   ]
  },
  {
   "cell_type": "code",
   "execution_count": 5,
   "metadata": {},
   "outputs": [],
   "source": [
    "dataset_version = 16\n",
    "\n",
    "# %cd {HOME}\n",
    "# !mkdir {HOME}/datasets\n",
    "# %cd {HOME}/datasets\n",
    "\n",
    "# !pip install roboflow --quiet\n",
    "\n",
    "# from roboflow import Roboflow\n",
    "# rf = Roboflow(api_key=\"BGsnvkX2VRqEDVbzg7Bs\")\n",
    "# project = rf.workspace(\"btech-project\").project(\"heavy-vehicle-detection-and-classification\")\n",
    "# dataset = project.version(dataset_version).download(\"yolov8\")\n"
   ]
  },
  {
   "cell_type": "code",
   "execution_count": 6,
   "metadata": {},
   "outputs": [
    {
     "name": "stdout",
     "output_type": "stream",
     "text": [
      "Requirement already satisfied: matplotlib>=3.2.2 in /home/ee19b004/.local/lib/python3.8/site-packages (from -r /home/ee19b004/Desktop/Training/requirements.txt (line 6)) (3.7.1)\n",
      "Requirement already satisfied: numpy>=1.21.6 in /home/ee19b004/.local/lib/python3.8/site-packages (from -r /home/ee19b004/Desktop/Training/requirements.txt (line 7)) (1.23.1)\n",
      "Requirement already satisfied: opencv-python>=4.6.0 in /home/ee19b004/.local/lib/python3.8/site-packages (from -r /home/ee19b004/Desktop/Training/requirements.txt (line 8)) (4.7.0.72)\n",
      "Requirement already satisfied: Pillow>=7.1.2 in /home/ee19b004/.local/lib/python3.8/site-packages (from -r /home/ee19b004/Desktop/Training/requirements.txt (line 9)) (9.4.0)\n",
      "Requirement already satisfied: PyYAML>=5.3.1 in /usr/lib/python3/dist-packages (from -r /home/ee19b004/Desktop/Training/requirements.txt (line 10)) (5.3.1)\n",
      "Requirement already satisfied: requests>=2.23.0 in /home/ee19b004/.local/lib/python3.8/site-packages (from -r /home/ee19b004/Desktop/Training/requirements.txt (line 11)) (2.28.2)\n",
      "Requirement already satisfied: scipy>=1.4.1 in /home/ee19b004/.local/lib/python3.8/site-packages (from -r /home/ee19b004/Desktop/Training/requirements.txt (line 12)) (1.9.1)\n",
      "Requirement already satisfied: torch>=1.7.0 in /home/ee19b004/.local/lib/python3.8/site-packages (from -r /home/ee19b004/Desktop/Training/requirements.txt (line 13)) (2.0.0)\n",
      "Requirement already satisfied: torchvision>=0.8.1 in /home/ee19b004/.local/lib/python3.8/site-packages (from -r /home/ee19b004/Desktop/Training/requirements.txt (line 14)) (0.15.1)\n",
      "Requirement already satisfied: tqdm>=4.64.0 in /home/ee19b004/.local/lib/python3.8/site-packages (from -r /home/ee19b004/Desktop/Training/requirements.txt (line 15)) (4.65.0)\n",
      "Requirement already satisfied: pandas>=1.1.4 in /home/ee19b004/.local/lib/python3.8/site-packages (from -r /home/ee19b004/Desktop/Training/requirements.txt (line 23)) (1.5.3)\n",
      "Requirement already satisfied: seaborn>=0.11.0 in /home/ee19b004/.local/lib/python3.8/site-packages (from -r /home/ee19b004/Desktop/Training/requirements.txt (line 24)) (0.12.2)\n",
      "Requirement already satisfied: psutil in /home/ee19b004/.local/lib/python3.8/site-packages (from -r /home/ee19b004/Desktop/Training/requirements.txt (line 39)) (5.9.4)\n",
      "Requirement already satisfied: thop>=0.1.1 in /home/ee19b004/.local/lib/python3.8/site-packages (from -r /home/ee19b004/Desktop/Training/requirements.txt (line 40)) (0.1.1.post2209072238)\n",
      "Requirement already satisfied: fonttools>=4.22.0 in /home/ee19b004/.local/lib/python3.8/site-packages (from matplotlib>=3.2.2->-r /home/ee19b004/Desktop/Training/requirements.txt (line 6)) (4.39.2)\n",
      "Requirement already satisfied: importlib-resources>=3.2.0; python_version < \"3.10\" in /home/ee19b004/.local/lib/python3.8/site-packages (from matplotlib>=3.2.2->-r /home/ee19b004/Desktop/Training/requirements.txt (line 6)) (5.12.0)\n",
      "Requirement already satisfied: python-dateutil>=2.7 in /home/ee19b004/.local/lib/python3.8/site-packages (from matplotlib>=3.2.2->-r /home/ee19b004/Desktop/Training/requirements.txt (line 6)) (2.8.2)\n",
      "Requirement already satisfied: contourpy>=1.0.1 in /home/ee19b004/.local/lib/python3.8/site-packages (from matplotlib>=3.2.2->-r /home/ee19b004/Desktop/Training/requirements.txt (line 6)) (1.0.7)\n",
      "Requirement already satisfied: pyparsing>=2.3.1 in /home/ee19b004/.local/lib/python3.8/site-packages (from matplotlib>=3.2.2->-r /home/ee19b004/Desktop/Training/requirements.txt (line 6)) (2.4.7)\n",
      "Requirement already satisfied: kiwisolver>=1.0.1 in /home/ee19b004/.local/lib/python3.8/site-packages (from matplotlib>=3.2.2->-r /home/ee19b004/Desktop/Training/requirements.txt (line 6)) (1.4.4)\n",
      "Requirement already satisfied: cycler>=0.10 in /home/ee19b004/.local/lib/python3.8/site-packages (from matplotlib>=3.2.2->-r /home/ee19b004/Desktop/Training/requirements.txt (line 6)) (0.10.0)\n",
      "Requirement already satisfied: packaging>=20.0 in /home/ee19b004/.local/lib/python3.8/site-packages (from matplotlib>=3.2.2->-r /home/ee19b004/Desktop/Training/requirements.txt (line 6)) (23.0)\n",
      "Requirement already satisfied: charset-normalizer<4,>=2 in /home/ee19b004/.local/lib/python3.8/site-packages (from requests>=2.23.0->-r /home/ee19b004/Desktop/Training/requirements.txt (line 11)) (3.1.0)\n",
      "Requirement already satisfied: idna<4,>=2.5 in /home/ee19b004/.local/lib/python3.8/site-packages (from requests>=2.23.0->-r /home/ee19b004/Desktop/Training/requirements.txt (line 11)) (2.10)\n",
      "Requirement already satisfied: certifi>=2017.4.17 in /home/ee19b004/.local/lib/python3.8/site-packages (from requests>=2.23.0->-r /home/ee19b004/Desktop/Training/requirements.txt (line 11)) (2022.12.7)\n",
      "Requirement already satisfied: urllib3<1.27,>=1.21.1 in /home/ee19b004/.local/lib/python3.8/site-packages (from requests>=2.23.0->-r /home/ee19b004/Desktop/Training/requirements.txt (line 11)) (1.26.15)\n",
      "Requirement already satisfied: sympy in /home/ee19b004/.local/lib/python3.8/site-packages (from torch>=1.7.0->-r /home/ee19b004/Desktop/Training/requirements.txt (line 13)) (1.11.1)\n",
      "Requirement already satisfied: nvidia-nccl-cu11==2.14.3; platform_system == \"Linux\" and platform_machine == \"x86_64\" in /home/ee19b004/.local/lib/python3.8/site-packages (from torch>=1.7.0->-r /home/ee19b004/Desktop/Training/requirements.txt (line 13)) (2.14.3)\n",
      "Requirement already satisfied: nvidia-cusparse-cu11==11.7.4.91; platform_system == \"Linux\" and platform_machine == \"x86_64\" in /home/ee19b004/.local/lib/python3.8/site-packages (from torch>=1.7.0->-r /home/ee19b004/Desktop/Training/requirements.txt (line 13)) (11.7.4.91)\n",
      "Requirement already satisfied: nvidia-cuda-nvrtc-cu11==11.7.99; platform_system == \"Linux\" and platform_machine == \"x86_64\" in /home/ee19b004/.local/lib/python3.8/site-packages (from torch>=1.7.0->-r /home/ee19b004/Desktop/Training/requirements.txt (line 13)) (11.7.99)\n",
      "Requirement already satisfied: nvidia-cuda-runtime-cu11==11.7.99; platform_system == \"Linux\" and platform_machine == \"x86_64\" in /home/ee19b004/.local/lib/python3.8/site-packages (from torch>=1.7.0->-r /home/ee19b004/Desktop/Training/requirements.txt (line 13)) (11.7.99)\n",
      "Requirement already satisfied: nvidia-cusolver-cu11==11.4.0.1; platform_system == \"Linux\" and platform_machine == \"x86_64\" in /home/ee19b004/.local/lib/python3.8/site-packages (from torch>=1.7.0->-r /home/ee19b004/Desktop/Training/requirements.txt (line 13)) (11.4.0.1)\n",
      "Requirement already satisfied: filelock in /home/ee19b004/.local/lib/python3.8/site-packages (from torch>=1.7.0->-r /home/ee19b004/Desktop/Training/requirements.txt (line 13)) (3.10.7)\n",
      "Requirement already satisfied: nvidia-cublas-cu11==11.10.3.66; platform_system == \"Linux\" and platform_machine == \"x86_64\" in /home/ee19b004/.local/lib/python3.8/site-packages (from torch>=1.7.0->-r /home/ee19b004/Desktop/Training/requirements.txt (line 13)) (11.10.3.66)\n",
      "Requirement already satisfied: nvidia-curand-cu11==10.2.10.91; platform_system == \"Linux\" and platform_machine == \"x86_64\" in /home/ee19b004/.local/lib/python3.8/site-packages (from torch>=1.7.0->-r /home/ee19b004/Desktop/Training/requirements.txt (line 13)) (10.2.10.91)\n",
      "Requirement already satisfied: triton==2.0.0; platform_system == \"Linux\" and platform_machine == \"x86_64\" in /home/ee19b004/.local/lib/python3.8/site-packages (from torch>=1.7.0->-r /home/ee19b004/Desktop/Training/requirements.txt (line 13)) (2.0.0)\n",
      "Requirement already satisfied: nvidia-cufft-cu11==10.9.0.58; platform_system == \"Linux\" and platform_machine == \"x86_64\" in /home/ee19b004/.local/lib/python3.8/site-packages (from torch>=1.7.0->-r /home/ee19b004/Desktop/Training/requirements.txt (line 13)) (10.9.0.58)\n",
      "Requirement already satisfied: typing-extensions in /home/ee19b004/.local/lib/python3.8/site-packages (from torch>=1.7.0->-r /home/ee19b004/Desktop/Training/requirements.txt (line 13)) (4.5.0)\n",
      "Requirement already satisfied: nvidia-cudnn-cu11==8.5.0.96; platform_system == \"Linux\" and platform_machine == \"x86_64\" in /home/ee19b004/.local/lib/python3.8/site-packages (from torch>=1.7.0->-r /home/ee19b004/Desktop/Training/requirements.txt (line 13)) (8.5.0.96)\n",
      "Requirement already satisfied: networkx in /home/ee19b004/.local/lib/python3.8/site-packages (from torch>=1.7.0->-r /home/ee19b004/Desktop/Training/requirements.txt (line 13)) (3.0)\n",
      "Requirement already satisfied: nvidia-cuda-cupti-cu11==11.7.101; platform_system == \"Linux\" and platform_machine == \"x86_64\" in /home/ee19b004/.local/lib/python3.8/site-packages (from torch>=1.7.0->-r /home/ee19b004/Desktop/Training/requirements.txt (line 13)) (11.7.101)\n",
      "Requirement already satisfied: nvidia-nvtx-cu11==11.7.91; platform_system == \"Linux\" and platform_machine == \"x86_64\" in /home/ee19b004/.local/lib/python3.8/site-packages (from torch>=1.7.0->-r /home/ee19b004/Desktop/Training/requirements.txt (line 13)) (11.7.91)\n",
      "Requirement already satisfied: jinja2 in /home/ee19b004/.local/lib/python3.8/site-packages (from torch>=1.7.0->-r /home/ee19b004/Desktop/Training/requirements.txt (line 13)) (3.1.2)\n",
      "Requirement already satisfied: pytz>=2020.1 in /home/ee19b004/.local/lib/python3.8/site-packages (from pandas>=1.1.4->-r /home/ee19b004/Desktop/Training/requirements.txt (line 23)) (2022.7.1)\n",
      "Requirement already satisfied: zipp>=3.1.0; python_version < \"3.10\" in /home/ee19b004/.local/lib/python3.8/site-packages (from importlib-resources>=3.2.0; python_version < \"3.10\"->matplotlib>=3.2.2->-r /home/ee19b004/Desktop/Training/requirements.txt (line 6)) (3.15.0)\n",
      "Requirement already satisfied: six>=1.5 in /usr/lib/python3/dist-packages (from python-dateutil>=2.7->matplotlib>=3.2.2->-r /home/ee19b004/Desktop/Training/requirements.txt (line 6)) (1.14.0)\n",
      "Requirement already satisfied: mpmath>=0.19 in /home/ee19b004/.local/lib/python3.8/site-packages (from sympy->torch>=1.7.0->-r /home/ee19b004/Desktop/Training/requirements.txt (line 13)) (1.3.0)\n",
      "Requirement already satisfied: wheel in /usr/lib/python3/dist-packages (from nvidia-cusparse-cu11==11.7.4.91; platform_system == \"Linux\" and platform_machine == \"x86_64\"->torch>=1.7.0->-r /home/ee19b004/Desktop/Training/requirements.txt (line 13)) (0.34.2)\n",
      "Requirement already satisfied: setuptools in /usr/lib/python3/dist-packages (from nvidia-cusparse-cu11==11.7.4.91; platform_system == \"Linux\" and platform_machine == \"x86_64\"->torch>=1.7.0->-r /home/ee19b004/Desktop/Training/requirements.txt (line 13)) (45.2.0)\n",
      "Requirement already satisfied: lit in /home/ee19b004/.local/lib/python3.8/site-packages (from triton==2.0.0; platform_system == \"Linux\" and platform_machine == \"x86_64\"->torch>=1.7.0->-r /home/ee19b004/Desktop/Training/requirements.txt (line 13)) (16.0.0)\n",
      "Requirement already satisfied: cmake in /home/ee19b004/.local/lib/python3.8/site-packages (from triton==2.0.0; platform_system == \"Linux\" and platform_machine == \"x86_64\"->torch>=1.7.0->-r /home/ee19b004/Desktop/Training/requirements.txt (line 13)) (3.26.1)\n",
      "Requirement already satisfied: MarkupSafe>=2.0 in /home/ee19b004/.local/lib/python3.8/site-packages (from jinja2->torch>=1.7.0->-r /home/ee19b004/Desktop/Training/requirements.txt (line 13)) (2.1.2)\n"
     ]
    }
   ],
   "source": [
    "!pip install -r /home/ee19b004/Desktop/Training/requirements.txt"
   ]
  },
  {
   "cell_type": "code",
   "execution_count": 7,
   "metadata": {},
   "outputs": [
    {
     "name": "stdout",
     "output_type": "stream",
     "text": [
      "Requirement already satisfied: tensorboard==2.4.1 in /home/ee19b004/.local/lib/python3.8/site-packages (2.4.1)\n",
      "Requirement already satisfied: grpcio>=1.24.3 in /home/ee19b004/.local/lib/python3.8/site-packages (from tensorboard==2.4.1) (1.51.3)\n",
      "Requirement already satisfied: werkzeug>=0.11.15 in /home/ee19b004/.local/lib/python3.8/site-packages (from tensorboard==2.4.1) (2.2.3)\n",
      "Requirement already satisfied: markdown>=2.6.8 in /home/ee19b004/.local/lib/python3.8/site-packages (from tensorboard==2.4.1) (3.4.1)\n",
      "Requirement already satisfied: wheel>=0.26; python_version >= \"3\" in /usr/lib/python3/dist-packages (from tensorboard==2.4.1) (0.34.2)\n",
      "Requirement already satisfied: absl-py>=0.4 in /home/ee19b004/.local/lib/python3.8/site-packages (from tensorboard==2.4.1) (1.4.0)\n",
      "Requirement already satisfied: protobuf>=3.6.0 in /home/ee19b004/.local/lib/python3.8/site-packages (from tensorboard==2.4.1) (3.19.6)\n",
      "Requirement already satisfied: six>=1.10.0 in /usr/lib/python3/dist-packages (from tensorboard==2.4.1) (1.14.0)\n",
      "Requirement already satisfied: google-auth<2,>=1.6.3 in /home/ee19b004/.local/lib/python3.8/site-packages (from tensorboard==2.4.1) (1.35.0)\n",
      "Requirement already satisfied: requests<3,>=2.21.0 in /home/ee19b004/.local/lib/python3.8/site-packages (from tensorboard==2.4.1) (2.28.2)\n",
      "Requirement already satisfied: tensorboard-plugin-wit>=1.6.0 in /home/ee19b004/.local/lib/python3.8/site-packages (from tensorboard==2.4.1) (1.8.1)\n",
      "Requirement already satisfied: numpy>=1.12.0 in /home/ee19b004/.local/lib/python3.8/site-packages (from tensorboard==2.4.1) (1.23.1)\n",
      "Requirement already satisfied: google-auth-oauthlib<0.5,>=0.4.1 in /home/ee19b004/.local/lib/python3.8/site-packages (from tensorboard==2.4.1) (0.4.6)\n",
      "Requirement already satisfied: setuptools>=41.0.0 in /usr/lib/python3/dist-packages (from tensorboard==2.4.1) (45.2.0)\n",
      "Requirement already satisfied: MarkupSafe>=2.1.1 in /home/ee19b004/.local/lib/python3.8/site-packages (from werkzeug>=0.11.15->tensorboard==2.4.1) (2.1.2)\n",
      "Requirement already satisfied: importlib-metadata>=4.4; python_version < \"3.10\" in /home/ee19b004/.local/lib/python3.8/site-packages (from markdown>=2.6.8->tensorboard==2.4.1) (6.0.0)\n",
      "Requirement already satisfied: pyasn1-modules>=0.2.1 in /home/ee19b004/.local/lib/python3.8/site-packages (from google-auth<2,>=1.6.3->tensorboard==2.4.1) (0.2.8)\n",
      "Requirement already satisfied: rsa<5,>=3.1.4; python_version >= \"3.6\" in /home/ee19b004/.local/lib/python3.8/site-packages (from google-auth<2,>=1.6.3->tensorboard==2.4.1) (4.9)\n",
      "Requirement already satisfied: cachetools<5.0,>=2.0.0 in /home/ee19b004/.local/lib/python3.8/site-packages (from google-auth<2,>=1.6.3->tensorboard==2.4.1) (4.2.4)\n",
      "Requirement already satisfied: charset-normalizer<4,>=2 in /home/ee19b004/.local/lib/python3.8/site-packages (from requests<3,>=2.21.0->tensorboard==2.4.1) (3.1.0)\n",
      "Requirement already satisfied: certifi>=2017.4.17 in /home/ee19b004/.local/lib/python3.8/site-packages (from requests<3,>=2.21.0->tensorboard==2.4.1) (2022.12.7)\n",
      "Requirement already satisfied: urllib3<1.27,>=1.21.1 in /home/ee19b004/.local/lib/python3.8/site-packages (from requests<3,>=2.21.0->tensorboard==2.4.1) (1.26.15)\n",
      "Requirement already satisfied: idna<4,>=2.5 in /home/ee19b004/.local/lib/python3.8/site-packages (from requests<3,>=2.21.0->tensorboard==2.4.1) (2.10)\n",
      "Requirement already satisfied: requests-oauthlib>=0.7.0 in /home/ee19b004/.local/lib/python3.8/site-packages (from google-auth-oauthlib<0.5,>=0.4.1->tensorboard==2.4.1) (1.3.1)\n",
      "Requirement already satisfied: zipp>=0.5 in /home/ee19b004/.local/lib/python3.8/site-packages (from importlib-metadata>=4.4; python_version < \"3.10\"->markdown>=2.6.8->tensorboard==2.4.1) (3.15.0)\n",
      "Requirement already satisfied: pyasn1<0.5.0,>=0.4.6 in /home/ee19b004/.local/lib/python3.8/site-packages (from pyasn1-modules>=0.2.1->google-auth<2,>=1.6.3->tensorboard==2.4.1) (0.4.8)\n",
      "Requirement already satisfied: oauthlib>=3.0.0 in /usr/lib/python3/dist-packages (from requests-oauthlib>=0.7.0->google-auth-oauthlib<0.5,>=0.4.1->tensorboard==2.4.1) (3.1.0)\n"
     ]
    }
   ],
   "source": [
    "!pip install tensorboard==2.4.1"
   ]
  },
  {
   "cell_type": "code",
   "execution_count": 8,
   "metadata": {},
   "outputs": [
    {
     "name": "stdout",
     "output_type": "stream",
     "text": [
      "/home/ee19b004/Desktop/Training\n",
      "/home/ee19b004/Desktop/Training/Trainings\n"
     ]
    },
    {
     "name": "stderr",
     "output_type": "stream",
     "text": [
      "Downloading https://github.com/ultralytics/assets/releases/download/v0.0.0/yolov8s.pt to yolov8s.pt...\n",
      "100%|██████████| 21.5M/21.5M [00:01<00:00, 11.6MB/s]\n",
      "\n",
      "Ultralytics YOLOv8.0.20 🚀 Python-3.8.10 torch-2.0.0+cu117 CUDA:0 (NVIDIA RTX A4000, 16109MiB)\n",
      "\u001b[34m\u001b[1myolo/engine/trainer: \u001b[0mtask=detect, mode=train, model=yolov8s.yaml, data=/home/ee19b004/Desktop/Training/datasets/Heavy-Vehicle-Detection-and-Classification-16/data.yaml, epochs=25, patience=50, batch=16, imgsz=640, save=True, cache=False, device=, workers=8, project=None, name=None, exist_ok=False, pretrained=False, optimizer=SGD, verbose=False, seed=0, deterministic=True, single_cls=False, image_weights=True, rect=False, cos_lr=False, close_mosaic=10, resume=False, overlap_mask=True, mask_ratio=4, dropout=False, val=True, save_json=False, save_hybrid=False, conf=0.001, iou=0.7, max_det=300, half=False, dnn=False, plots=False, source=ultralytics/assets/, show=False, save_txt=False, save_conf=False, save_crop=False, hide_labels=False, hide_conf=False, vid_stride=1, line_thickness=3, visualize=False, augment=False, agnostic_nms=False, classes=None, retina_masks=False, boxes=True, format=torchscript, keras=False, optimize=False, int8=False, dynamic=False, simplify=False, opset=17, workspace=4, nms=False, lr0=0.01, lrf=0.01, momentum=0.937, weight_decay=0.001, warmup_epochs=3.0, warmup_momentum=0.8, warmup_bias_lr=0.1, box=7.5, cls=0.5, dfl=1.5, fl_gamma=0.0, label_smoothing=0.0, nbs=64, hsv_h=0.015, hsv_s=0.7, hsv_v=0.4, degrees=0.0, translate=0.1, scale=0.5, shear=0.0, perspective=0.0, flipud=0.0, fliplr=0.5, mosaic=1.0, mixup=0.0, copy_paste=0.0, cfg=None, v5loader=False, save_dir=runs/detect/train\n",
      "Overriding model.yaml nc=80 with nc=7\n",
      "\n",
      "                   from  n    params  module                                       arguments                     \n",
      "  0                  -1  1       928  ultralytics.nn.modules.Conv                  [3, 32, 3, 2]                 \n",
      "  1                  -1  1     18560  ultralytics.nn.modules.Conv                  [32, 64, 3, 2]                \n",
      "  2                  -1  1     29056  ultralytics.nn.modules.C2f                   [64, 64, 1, True]             \n",
      "  3                  -1  1     73984  ultralytics.nn.modules.Conv                  [64, 128, 3, 2]               \n",
      "  4                  -1  2    197632  ultralytics.nn.modules.C2f                   [128, 128, 2, True]           \n",
      "  5                  -1  1    295424  ultralytics.nn.modules.Conv                  [128, 256, 3, 2]              \n",
      "  6                  -1  2    788480  ultralytics.nn.modules.C2f                   [256, 256, 2, True]           \n",
      "  7                  -1  1   1180672  ultralytics.nn.modules.Conv                  [256, 512, 3, 2]              \n",
      "  8                  -1  1   1838080  ultralytics.nn.modules.C2f                   [512, 512, 1, True]           \n",
      "  9                  -1  1    656896  ultralytics.nn.modules.SPPF                  [512, 512, 5]                 \n",
      " 10                  -1  1         0  torch.nn.modules.upsampling.Upsample         [None, 2, 'nearest']          \n",
      " 11             [-1, 6]  1         0  ultralytics.nn.modules.Concat                [1]                           \n",
      " 12                  -1  1    591360  ultralytics.nn.modules.C2f                   [768, 256, 1]                 \n",
      " 13                  -1  1         0  torch.nn.modules.upsampling.Upsample         [None, 2, 'nearest']          \n",
      " 14             [-1, 4]  1         0  ultralytics.nn.modules.Concat                [1]                           \n",
      " 15                  -1  1    148224  ultralytics.nn.modules.C2f                   [384, 128, 1]                 \n",
      " 16                  -1  1    147712  ultralytics.nn.modules.Conv                  [128, 128, 3, 2]              \n",
      " 17            [-1, 12]  1         0  ultralytics.nn.modules.Concat                [1]                           \n",
      " 18                  -1  1    493056  ultralytics.nn.modules.C2f                   [384, 256, 1]                 \n",
      " 19                  -1  1    590336  ultralytics.nn.modules.Conv                  [256, 256, 3, 2]              \n",
      " 20             [-1, 9]  1         0  ultralytics.nn.modules.Concat                [1]                           \n",
      " 21                  -1  1   1969152  ultralytics.nn.modules.C2f                   [768, 512, 1]                 \n",
      " 22        [15, 18, 21]  1   2118757  ultralytics.nn.modules.Detect                [7, [128, 256, 512]]          \n",
      "Model summary: 225 layers, 11138309 parameters, 11138293 gradients, 28.7 GFLOPs\n",
      "\n",
      "Transferred 349/355 items from pretrained weights\n",
      "\u001b[34m\u001b[1moptimizer:\u001b[0m SGD(lr=0.01) with parameter groups 57 weight(decay=0.0), 64 weight(decay=0.001), 63 bias\n",
      "\u001b[34m\u001b[1mtrain: \u001b[0mScanning /home/ee19b004/Desktop/Training/datasets/Heavy-Vehicle-Detection-and-Classification-16/train/labels.cache... 3771 images, 15 backgrounds, 0 corrupt: 100%|██████████| 3771/3771 [00:00<?, ?it/s]\n",
      "\u001b[34m\u001b[1mval: \u001b[0mScanning /home/ee19b004/Desktop/Training/datasets/Heavy-Vehicle-Detection-and-Classification-16/valid/labels.cache... 54 images, 0 backgrounds, 0 corrupt: 100%|██████████| 54/54 [00:00<?, ?it/s]\n",
      "Image sizes 640 train, 640 val\n",
      "Using 8 dataloader workers\n",
      "Logging results to \u001b[1mruns/detect/train\u001b[0m\n",
      "Starting training for 25 epochs...\n",
      "\n",
      "      Epoch    GPU_mem   box_loss   cls_loss   dfl_loss  Instances       Size\n",
      "       1/25      4.23G     0.9397      1.852      1.015         70        640: 100%|██████████| 236/236 [00:32<00:00,  7.18it/s]\n",
      "                 Class     Images  Instances      Box(P          R      mAP50  mAP50-95): 100%|██████████| 2/2 [00:01<00:00,  1.69it/s]\n",
      "                   all         54        190      0.668      0.759      0.721      0.623\n",
      "\n",
      "      Epoch    GPU_mem   box_loss   cls_loss   dfl_loss  Instances       Size\n",
      "       2/25      5.04G     0.8071     0.8227     0.9312         62        640: 100%|██████████| 236/236 [00:30<00:00,  7.70it/s]\n",
      "                 Class     Images  Instances      Box(P          R      mAP50  mAP50-95): 100%|██████████| 2/2 [00:01<00:00,  1.73it/s]\n",
      "                   all         54        190      0.791      0.604      0.722      0.629\n",
      "\n",
      "      Epoch    GPU_mem   box_loss   cls_loss   dfl_loss  Instances       Size\n",
      "       3/25      5.05G     0.8402     0.7718     0.9395         44        640: 100%|██████████| 236/236 [00:30<00:00,  7.77it/s]\n",
      "                 Class     Images  Instances      Box(P          R      mAP50  mAP50-95): 100%|██████████| 2/2 [00:01<00:00,  1.76it/s]\n",
      "                   all         54        190       0.58      0.756      0.735      0.631\n",
      "\n",
      "      Epoch    GPU_mem   box_loss   cls_loss   dfl_loss  Instances       Size\n",
      "       4/25      5.05G     0.8378     0.7414     0.9446         47        640: 100%|██████████| 236/236 [00:30<00:00,  7.74it/s]\n",
      "                 Class     Images  Instances      Box(P          R      mAP50  mAP50-95): 100%|██████████| 2/2 [00:01<00:00,  1.72it/s]\n",
      "                   all         54        190      0.742      0.748      0.816      0.724\n",
      "\n",
      "      Epoch    GPU_mem   box_loss   cls_loss   dfl_loss  Instances       Size\n",
      "       5/25      5.05G     0.8349     0.7063     0.9373         58        640: 100%|██████████| 236/236 [00:30<00:00,  7.73it/s]\n",
      "                 Class     Images  Instances      Box(P          R      mAP50  mAP50-95): 100%|██████████| 2/2 [00:01<00:00,  1.76it/s]\n",
      "                   all         54        190      0.813      0.705      0.785      0.663\n",
      "\n",
      "      Epoch    GPU_mem   box_loss   cls_loss   dfl_loss  Instances       Size\n",
      "       6/25      5.05G     0.8192     0.6699     0.9358         52        640: 100%|██████████| 236/236 [00:30<00:00,  7.77it/s]\n",
      "                 Class     Images  Instances      Box(P          R      mAP50  mAP50-95): 100%|██████████| 2/2 [00:01<00:00,  1.74it/s]\n",
      "                   all         54        190      0.645      0.921      0.797        0.7\n",
      "\n",
      "      Epoch    GPU_mem   box_loss   cls_loss   dfl_loss  Instances       Size\n",
      "       7/25      5.05G     0.8062     0.6358     0.9305         95        640: 100%|██████████| 236/236 [00:30<00:00,  7.75it/s]\n",
      "                 Class     Images  Instances      Box(P          R      mAP50  mAP50-95): 100%|██████████| 2/2 [00:01<00:00,  1.67it/s]\n",
      "                   all         54        190      0.896      0.875      0.941      0.822\n",
      "\n",
      "      Epoch    GPU_mem   box_loss   cls_loss   dfl_loss  Instances       Size\n",
      "       8/25      5.05G     0.7836     0.6135     0.9246         48        640: 100%|██████████| 236/236 [00:30<00:00,  7.73it/s]\n",
      "                 Class     Images  Instances      Box(P          R      mAP50  mAP50-95): 100%|██████████| 2/2 [00:01<00:00,  1.80it/s]\n",
      "                   all         54        190      0.707      0.815      0.829      0.733\n",
      "\n",
      "      Epoch    GPU_mem   box_loss   cls_loss   dfl_loss  Instances       Size\n",
      "       9/25      5.05G     0.7733     0.5954     0.9176         74        640: 100%|██████████| 236/236 [00:30<00:00,  7.75it/s]\n",
      "                 Class     Images  Instances      Box(P          R      mAP50  mAP50-95): 100%|██████████| 2/2 [00:01<00:00,  1.75it/s]\n",
      "                   all         54        190       0.68      0.718        0.8      0.706\n",
      "\n",
      "      Epoch    GPU_mem   box_loss   cls_loss   dfl_loss  Instances       Size\n",
      "      10/25      5.05G     0.7568     0.5685     0.9156         92        640: 100%|██████████| 236/236 [00:30<00:00,  7.70it/s]\n",
      "                 Class     Images  Instances      Box(P          R      mAP50  mAP50-95): 100%|██████████| 2/2 [00:01<00:00,  1.77it/s]\n",
      "                   all         54        190      0.798      0.903      0.914      0.796\n",
      "\n",
      "      Epoch    GPU_mem   box_loss   cls_loss   dfl_loss  Instances       Size\n",
      "      11/25      5.05G     0.7434     0.5523     0.9082         58        640: 100%|██████████| 236/236 [00:30<00:00,  7.74it/s]\n",
      "                 Class     Images  Instances      Box(P          R      mAP50  mAP50-95): 100%|██████████| 2/2 [00:01<00:00,  1.79it/s]\n",
      "                   all         54        190      0.813      0.875      0.884      0.789\n",
      "\n",
      "      Epoch    GPU_mem   box_loss   cls_loss   dfl_loss  Instances       Size\n",
      "      12/25      5.05G     0.7374     0.5496     0.9073         75        640: 100%|██████████| 236/236 [00:30<00:00,  7.76it/s]\n",
      "                 Class     Images  Instances      Box(P          R      mAP50  mAP50-95): 100%|██████████| 2/2 [00:01<00:00,  1.77it/s]\n",
      "                   all         54        190      0.693      0.842      0.826      0.731\n",
      "\n",
      "      Epoch    GPU_mem   box_loss   cls_loss   dfl_loss  Instances       Size\n",
      "      13/25      5.05G     0.7295     0.5254     0.9068         69        640: 100%|██████████| 236/236 [00:30<00:00,  7.77it/s]\n",
      "                 Class     Images  Instances      Box(P          R      mAP50  mAP50-95): 100%|██████████| 2/2 [00:01<00:00,  1.83it/s]\n",
      "                   all         54        190      0.725      0.821      0.827      0.743\n",
      "\n",
      "      Epoch    GPU_mem   box_loss   cls_loss   dfl_loss  Instances       Size\n",
      "      14/25      5.05G     0.7163     0.5108     0.9016         66        640: 100%|██████████| 236/236 [00:30<00:00,  7.77it/s]\n",
      "                 Class     Images  Instances      Box(P          R      mAP50  mAP50-95): 100%|██████████| 2/2 [00:01<00:00,  1.82it/s]\n",
      "                   all         54        190      0.698      0.835      0.843      0.757\n",
      "\n",
      "      Epoch    GPU_mem   box_loss   cls_loss   dfl_loss  Instances       Size\n",
      "      15/25      5.05G     0.7094     0.5025     0.8986         47        640: 100%|██████████| 236/236 [00:30<00:00,  7.77it/s]\n",
      "                 Class     Images  Instances      Box(P          R      mAP50  mAP50-95): 100%|██████████| 2/2 [00:01<00:00,  1.81it/s]\n",
      "                   all         54        190      0.811      0.925       0.92      0.817\n",
      "Closing dataloader mosaic\n",
      "\n",
      "      Epoch    GPU_mem   box_loss   cls_loss   dfl_loss  Instances       Size\n",
      "      16/25      5.05G     0.7109     0.4004     0.8959         41        640: 100%|██████████| 236/236 [00:29<00:00,  8.10it/s]\n",
      "                 Class     Images  Instances      Box(P          R      mAP50  mAP50-95): 100%|██████████| 2/2 [00:01<00:00,  1.79it/s]\n",
      "                   all         54        190      0.725      0.898      0.844      0.751\n",
      "\n",
      "      Epoch    GPU_mem   box_loss   cls_loss   dfl_loss  Instances       Size\n",
      "      17/25      5.05G     0.7054     0.3909     0.8967         43        640: 100%|██████████| 236/236 [00:28<00:00,  8.17it/s]\n",
      "                 Class     Images  Instances      Box(P          R      mAP50  mAP50-95): 100%|██████████| 2/2 [00:01<00:00,  1.77it/s]\n",
      "                   all         54        190       0.77      0.909      0.903      0.801\n",
      "\n",
      "      Epoch    GPU_mem   box_loss   cls_loss   dfl_loss  Instances       Size\n",
      "      18/25      5.05G     0.6903     0.3793     0.8922         45        640: 100%|██████████| 236/236 [00:28<00:00,  8.17it/s]\n",
      "                 Class     Images  Instances      Box(P          R      mAP50  mAP50-95): 100%|██████████| 2/2 [00:01<00:00,  1.77it/s]\n",
      "                   all         54        190      0.711      0.849      0.907      0.804\n",
      "\n",
      "      Epoch    GPU_mem   box_loss   cls_loss   dfl_loss  Instances       Size\n",
      "      19/25      5.05G     0.6804     0.3672     0.8872         40        640: 100%|██████████| 236/236 [00:28<00:00,  8.18it/s]\n",
      "                 Class     Images  Instances      Box(P          R      mAP50  mAP50-95): 100%|██████████| 2/2 [00:01<00:00,  1.80it/s]\n",
      "                   all         54        190      0.859      0.796       0.85      0.755\n",
      "\n",
      "      Epoch    GPU_mem   box_loss   cls_loss   dfl_loss  Instances       Size\n",
      "      20/25      5.05G     0.6656     0.3486     0.8774         41        640: 100%|██████████| 236/236 [00:28<00:00,  8.16it/s]\n",
      "                 Class     Images  Instances      Box(P          R      mAP50  mAP50-95): 100%|██████████| 2/2 [00:01<00:00,  1.77it/s]\n",
      "                   all         54        190      0.905      0.793      0.885      0.791\n",
      "\n",
      "      Epoch    GPU_mem   box_loss   cls_loss   dfl_loss  Instances       Size\n",
      "      21/25      5.05G     0.6541     0.3429      0.881         38        640: 100%|██████████| 236/236 [00:28<00:00,  8.17it/s]\n",
      "                 Class     Images  Instances      Box(P          R      mAP50  mAP50-95): 100%|██████████| 2/2 [00:01<00:00,  1.79it/s]\n",
      "                   all         54        190      0.783      0.953      0.924      0.819\n",
      "\n",
      "      Epoch    GPU_mem   box_loss   cls_loss   dfl_loss  Instances       Size\n",
      "      22/25      5.05G     0.6457     0.3299     0.8761         37        640: 100%|██████████| 236/236 [00:28<00:00,  8.20it/s]\n",
      "                 Class     Images  Instances      Box(P          R      mAP50  mAP50-95): 100%|██████████| 2/2 [00:01<00:00,  1.81it/s]\n",
      "                   all         54        190      0.824       0.84      0.931      0.832\n",
      "\n",
      "      Epoch    GPU_mem   box_loss   cls_loss   dfl_loss  Instances       Size\n",
      "      23/25      5.05G     0.6319     0.3172     0.8694         33        640: 100%|██████████| 236/236 [00:28<00:00,  8.20it/s]\n",
      "                 Class     Images  Instances      Box(P          R      mAP50  mAP50-95): 100%|██████████| 2/2 [00:01<00:00,  1.81it/s]\n",
      "                   all         54        190      0.795      0.903      0.866      0.778\n",
      "\n",
      "      Epoch    GPU_mem   box_loss   cls_loss   dfl_loss  Instances       Size\n",
      "      24/25      5.05G     0.6216     0.3031     0.8661         42        640: 100%|██████████| 236/236 [00:28<00:00,  8.20it/s]\n",
      "                 Class     Images  Instances      Box(P          R      mAP50  mAP50-95): 100%|██████████| 2/2 [00:01<00:00,  1.79it/s]\n",
      "                   all         54        190      0.806      0.889      0.892      0.814\n",
      "\n",
      "      Epoch    GPU_mem   box_loss   cls_loss   dfl_loss  Instances       Size\n",
      "      25/25      5.05G     0.6067     0.2935     0.8642         41        640: 100%|██████████| 236/236 [00:28<00:00,  8.21it/s]\n",
      "                 Class     Images  Instances      Box(P          R      mAP50  mAP50-95): 100%|██████████| 2/2 [00:02<00:00,  1.06s/it]\n",
      "                   all         54        190      0.795      0.925      0.866      0.792\n",
      "\n",
      "25 epochs completed in 0.224 hours.\n",
      "Optimizer stripped from runs/detect/train/weights/last.pt, 22.5MB\n",
      "Optimizer stripped from runs/detect/train/weights/best.pt, 22.5MB\n",
      "\n",
      "Validating runs/detect/train/weights/best.pt...\n",
      "Ultralytics YOLOv8.0.20 🚀 Python-3.8.10 torch-2.0.0+cu117 CUDA:0 (NVIDIA RTX A4000, 16109MiB)\n",
      "Model summary (fused): 168 layers, 11128293 parameters, 0 gradients, 28.5 GFLOPs\n",
      "                 Class     Images  Instances      Box(P          R      mAP50  mAP50-95): 100%|██████████| 2/2 [00:01<00:00,  1.08it/s]\n",
      "                   all         54        190      0.824       0.84      0.931      0.832\n",
      "           A-10-Tridem         54          2      0.902        0.5      0.828      0.765\n",
      "                  Axle         54        136      0.947      0.927      0.976      0.655\n",
      "                Type-2         54         32          1      0.885      0.984      0.936\n",
      "             Type-2-S2         54         11      0.798          1       0.98      0.964\n",
      "                Type-3         54          9      0.471      0.889      0.889      0.839\n",
      "Speed: 0.6ms pre-process, 2.3ms inference, 0.0ms loss, 0.5ms post-process per image\n",
      "Results saved to \u001b[1mruns/detect/train\u001b[0m\n"
     ]
    }
   ],
   "source": [
    "!pwd\n",
    "%mkdir {HOME}/Trainings\n",
    "%cd {HOME}/Trainings\n",
    "\n",
    "from ultralytics import YOLO\n",
    "\n",
    "model = YOLO(\"yolov8s.pt\")  # loading a pretrained model\n",
    "\n",
    "# Train the model\n",
    "model.train(data=HOME + \"/datasets/Heavy-Vehicle-Detection-and-Classification-\" + str(dataset_version) + \"/data.yaml\", epochs=25, imgsz=640,save=True,image_weights=True,)"
   ]
  },
  {
   "cell_type": "code",
   "execution_count": 9,
   "metadata": {},
   "outputs": [
    {
     "name": "stdout",
     "output_type": "stream",
     "text": [
      "{0: 'A-10-Tridem', 1: 'A-13', 2: 'Axle', 3: 'Type-2', 4: 'Type-2-S2', 5: 'Type-3', 6: 'Unclassified'}\n"
     ]
    }
   ],
   "source": [
    "print(model.model.names)"
   ]
  },
  {
   "cell_type": "code",
   "execution_count": 10,
   "metadata": {},
   "outputs": [
    {
     "name": "stderr",
     "output_type": "stream",
     "text": [
      "Ultralytics YOLOv8.0.20 🚀 Python-3.8.10 torch-2.0.0+cu117 CUDA:0 (NVIDIA RTX A4000, 16109MiB)\n",
      "Model summary (fused): 168 layers, 11128293 parameters, 0 gradients, 28.5 GFLOPs\n",
      "\u001b[34m\u001b[1mval: \u001b[0mScanning /home/ee19b004/Desktop/Training/datasets/Heavy-Vehicle-Detection-and-Classification-16/valid/labels.cache... 54 images, 0 backgrounds, 0 corrupt: 100%|██████████| 54/54 [00:00<?, ?it/s]\n",
      "                 Class     Images  Instances      Box(P          R      mAP50  mAP50-95): 100%|██████████| 4/4 [00:01<00:00,  3.26it/s]\n",
      "                   all         54        190      0.824       0.84      0.931      0.833\n",
      "           A-10-Tridem         54          2      0.903        0.5      0.828      0.765\n",
      "                  Axle         54        136      0.947      0.927      0.976       0.66\n",
      "                Type-2         54         32          1      0.885      0.984      0.938\n",
      "             Type-2-S2         54         11      0.798          1       0.98      0.964\n",
      "                Type-3         54          9      0.472      0.889      0.889      0.839\n",
      "Speed: 0.1ms pre-process, 4.3ms inference, 0.0ms loss, 0.4ms post-process per image\n"
     ]
    }
   ],
   "source": [
    "model.val()"
   ]
  },
  {
   "cell_type": "code",
   "execution_count": 11,
   "metadata": {},
   "outputs": [
    {
     "data": {
      "text/html": [
       "\n",
       "      <iframe id=\"tensorboard-frame-d4713d60c8a70639\" width=\"100%\" height=\"800\" frameborder=\"0\">\n",
       "      </iframe>\n",
       "      <script>\n",
       "        (function() {\n",
       "          const frame = document.getElementById(\"tensorboard-frame-d4713d60c8a70639\");\n",
       "          const url = new URL(\"/\", window.location);\n",
       "          const port = 6006;\n",
       "          if (port) {\n",
       "            url.port = port;\n",
       "          }\n",
       "          frame.src = url;\n",
       "        })();\n",
       "      </script>\n",
       "    "
      ],
      "text/plain": [
       "<IPython.core.display.HTML object>"
      ]
     },
     "metadata": {},
     "output_type": "display_data"
    }
   ],
   "source": [
    "%load_ext tensorboard\n",
    "%tensorboard --logdir runs"
   ]
  },
  {
   "cell_type": "code",
   "execution_count": 12,
   "metadata": {},
   "outputs": [
    {
     "name": "stderr",
     "output_type": "stream",
     "text": [
      "Ultralytics YOLOv8.0.20 🚀 Python-3.8.10 torch-2.0.0+cu117 CUDA:0 (NVIDIA RTX A4000, 16109MiB)\n",
      "Results saved to \u001b[1mruns/detect/predict\u001b[0m\n"
     ]
    }
   ],
   "source": [
    "results = model(source=HOME + \"/datasets/Heavy-Vehicle-Detection-and-Classification-\" + str(dataset_version) + \"/test/images\", save=True)"
   ]
  },
  {
   "cell_type": "code",
   "execution_count": 13,
   "metadata": {},
   "outputs": [],
   "source": [
    "import glob\n",
    "from IPython.display import Image, display\n",
    "from numpy import asarray\n",
    "\n",
    "\n",
    "for image_path in glob.glob(HOME +'/Trainings/runs/segment/predict/*.jpg')[:]:\n",
    "  display(Image(filename=image_path))\n",
    "  print(\"\\n\")"
   ]
  }
 ],
 "metadata": {
  "kernelspec": {
   "display_name": "Python 3",
   "language": "python",
   "name": "python3"
  },
  "language_info": {
   "codemirror_mode": {
    "name": "ipython",
    "version": 3
   },
   "file_extension": ".py",
   "mimetype": "text/x-python",
   "name": "python",
   "nbconvert_exporter": "python",
   "pygments_lexer": "ipython3",
   "version": "3.8.10"
  },
  "orig_nbformat": 4
 },
 "nbformat": 4,
 "nbformat_minor": 2
}
